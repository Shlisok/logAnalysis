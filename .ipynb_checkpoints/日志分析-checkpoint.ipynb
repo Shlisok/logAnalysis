{
 "cells": [
  {
   "cell_type": "markdown",
   "source": [
    "# <center>网络流量日志分析</center>"
   ],
   "metadata": {
    "collapsed": false
   }
  },
  {
   "cell_type": "markdown",
   "source": [
    "## 一、数据导入"
   ],
   "metadata": {
    "collapsed": false
   }
  },
  {
   "cell_type": "markdown",
   "source": [
    "### 1.1 数据导入"
   ],
   "metadata": {
    "collapsed": false
   }
  },
  {
   "cell_type": "code",
   "execution_count": 3,
   "outputs": [],
   "source": [
    "import pandas as pd\n",
    "LOG_TAG = '<PNB4001>'\n",
    "\n",
    "# 读取日志文件并清洗\n",
    "def read_log_file(filename):\n",
    "    with open(filename, 'r', encoding='utf-8', errors='ignore') as file:\n",
    "        lines = [line.strip() for line in file if line.strip()]\n",
    "    # 两种日志\n",
    "    DNS_list = []\n",
    "    HTTP_list = []\n",
    "    for line in lines:\n",
    "        result = log_sort(line)\n",
    "        if result[0]:\n",
    "            # 根据日志字段数量判断日志类型\n",
    "            if result[1] == 10:\n",
    "                DNS_list.append(line)\n",
    "            elif result[1] == 13:\n",
    "                HTTP_list.append(line)\n",
    "    return DNS_list, HTTP_list\n",
    "# 根据是否含有标识符来判断是否是所需日志\n",
    "def log_sort(log_str):\n",
    "    return LOG_TAG in log_str, len(log_str.split())"
   ],
   "metadata": {
    "collapsed": false,
    "ExecuteTime": {
     "end_time": "2023-11-15T01:08:47.363198Z",
     "start_time": "2023-11-15T01:08:46.127460Z"
    }
   }
  },
  {
   "cell_type": "markdown",
   "source": [
    "### 1.2 判断字段属性"
   ],
   "metadata": {
    "collapsed": false
   }
  },
  {
   "cell_type": "code",
   "execution_count": 7,
   "outputs": [],
   "source": [
    "# 设置字段，并将list转换为DataFram\n",
    "def list_to_df(DNS_list, HTTP_list):\n",
    "    DNS_data = pd.DataFrame([x.split() for x in DNS_list],\n",
    "                            columns=['时间戳', '记录网关', '标识符', '日志批次', '上网设备MAC地址',\n",
    "                                     '上网设备IP地址', '源端口', 'DNS服务器地址', '目的端口', '查询地址'])\n",
    "    HTTP_data = pd.DataFrame([x.split() for x in HTTP_list],\n",
    "                             columns=['时间戳', '记录网关', '标识符', '日志批次', '上网设备MAC地址',\n",
    "                                      '上网设备IP地址', '源端口', '目的地址', '目的端口', '未知符号',\n",
    "                                      '方式', '目的域名', 'url详情'])\n",
    "    return DNS_data, HTTP_data"
   ],
   "metadata": {
    "collapsed": false,
    "ExecuteTime": {
     "end_time": "2023-11-15T01:21:32.455648Z",
     "start_time": "2023-11-15T01:21:32.452634Z"
    }
   }
  },
  {
   "cell_type": "markdown",
   "source": [
    "### 1.3 查看日志信息"
   ],
   "metadata": {
    "collapsed": false
   }
  },
  {
   "cell_type": "code",
   "execution_count": null,
   "outputs": [],
   "source": [
    "# 获取日志信息\n",
    "dns_list, http_list = read_log_file('./file/192.168.35.2.log')\n",
    "dns_df, http_df = list_to_df(dns_list, http_list)"
   ],
   "metadata": {
    "collapsed": false
   }
  },
  {
   "cell_type": "markdown",
   "source": [
    "#### 1.3.1 DNS日志"
   ],
   "metadata": {
    "collapsed": false
   }
  },
  {
   "cell_type": "code",
   "execution_count": 4,
   "outputs": [
    {
     "data": {
      "text/plain": "                                时间戳          记录网关                 标识符  \\\n0  2023-11-05T13:20:55.514602-05:00  192.168.35.2  <PNB4001>dnsquery3   \n1  2023-11-05T13:20:56.121189-05:00  192.168.35.2  <PNB4001>dnsquery3   \n2  2023-11-05T13:20:56.121480-05:00  192.168.35.2  <PNB4001>dnsquery3   \n3  2023-11-05T13:20:56.630825-05:00  192.168.35.2  <PNB4001>dnsquery3   \n4  2023-11-05T13:20:57.776371-05:00  192.168.35.2  <PNB4001>dnsquery3   \n\n         日志批次          上网设备MAC地址       上网设备IP地址    源端口         DNS服务器地址 目的端口  \\\n0  1699208451  00-0c-29-f5-5f-80  192.168.55.10  64450  114.114.114.114   53   \n1  1699208451  00-0c-29-f5-5f-80  192.168.55.10  49666  114.114.114.114   53   \n2  1699208451  00-0c-29-f5-5f-80  192.168.55.10  51840  114.114.114.114   53   \n3  1699208452  00-0c-29-f5-5f-80  192.168.55.10  64450  114.114.114.114   53   \n4  1699208453  00-0c-29-f5-5f-80  192.168.55.10  64450  114.114.114.114   53   \n\n                       查询地址  \n0          dns.msftncsi.com  \n1  ipv6.msftconnecttest.com  \n2  ipv6.msftconnecttest.com  \n3          dns.msftncsi.com  \n4          dns.msftncsi.com  ",
      "text/html": "<div>\n<style scoped>\n    .dataframe tbody tr th:only-of-type {\n        vertical-align: middle;\n    }\n\n    .dataframe tbody tr th {\n        vertical-align: top;\n    }\n\n    .dataframe thead th {\n        text-align: right;\n    }\n</style>\n<table border=\"1\" class=\"dataframe\">\n  <thead>\n    <tr style=\"text-align: right;\">\n      <th></th>\n      <th>时间戳</th>\n      <th>记录网关</th>\n      <th>标识符</th>\n      <th>日志批次</th>\n      <th>上网设备MAC地址</th>\n      <th>上网设备IP地址</th>\n      <th>源端口</th>\n      <th>DNS服务器地址</th>\n      <th>目的端口</th>\n      <th>查询地址</th>\n    </tr>\n  </thead>\n  <tbody>\n    <tr>\n      <th>0</th>\n      <td>2023-11-05T13:20:55.514602-05:00</td>\n      <td>192.168.35.2</td>\n      <td>&lt;PNB4001&gt;dnsquery3</td>\n      <td>1699208451</td>\n      <td>00-0c-29-f5-5f-80</td>\n      <td>192.168.55.10</td>\n      <td>64450</td>\n      <td>114.114.114.114</td>\n      <td>53</td>\n      <td>dns.msftncsi.com</td>\n    </tr>\n    <tr>\n      <th>1</th>\n      <td>2023-11-05T13:20:56.121189-05:00</td>\n      <td>192.168.35.2</td>\n      <td>&lt;PNB4001&gt;dnsquery3</td>\n      <td>1699208451</td>\n      <td>00-0c-29-f5-5f-80</td>\n      <td>192.168.55.10</td>\n      <td>49666</td>\n      <td>114.114.114.114</td>\n      <td>53</td>\n      <td>ipv6.msftconnecttest.com</td>\n    </tr>\n    <tr>\n      <th>2</th>\n      <td>2023-11-05T13:20:56.121480-05:00</td>\n      <td>192.168.35.2</td>\n      <td>&lt;PNB4001&gt;dnsquery3</td>\n      <td>1699208451</td>\n      <td>00-0c-29-f5-5f-80</td>\n      <td>192.168.55.10</td>\n      <td>51840</td>\n      <td>114.114.114.114</td>\n      <td>53</td>\n      <td>ipv6.msftconnecttest.com</td>\n    </tr>\n    <tr>\n      <th>3</th>\n      <td>2023-11-05T13:20:56.630825-05:00</td>\n      <td>192.168.35.2</td>\n      <td>&lt;PNB4001&gt;dnsquery3</td>\n      <td>1699208452</td>\n      <td>00-0c-29-f5-5f-80</td>\n      <td>192.168.55.10</td>\n      <td>64450</td>\n      <td>114.114.114.114</td>\n      <td>53</td>\n      <td>dns.msftncsi.com</td>\n    </tr>\n    <tr>\n      <th>4</th>\n      <td>2023-11-05T13:20:57.776371-05:00</td>\n      <td>192.168.35.2</td>\n      <td>&lt;PNB4001&gt;dnsquery3</td>\n      <td>1699208453</td>\n      <td>00-0c-29-f5-5f-80</td>\n      <td>192.168.55.10</td>\n      <td>64450</td>\n      <td>114.114.114.114</td>\n      <td>53</td>\n      <td>dns.msftncsi.com</td>\n    </tr>\n  </tbody>\n</table>\n</div>"
     },
     "execution_count": 4,
     "metadata": {},
     "output_type": "execute_result"
    }
   ],
   "source": [
    "dns_df.head()"
   ],
   "metadata": {
    "collapsed": false,
    "ExecuteTime": {
     "end_time": "2023-11-15T01:09:16.426089Z",
     "start_time": "2023-11-15T01:09:16.397889Z"
    }
   }
  },
  {
   "cell_type": "markdown",
   "source": [
    "#### 1.3.2 HTTP日志"
   ],
   "metadata": {
    "collapsed": false
   }
  },
  {
   "cell_type": "code",
   "execution_count": 6,
   "outputs": [
    {
     "data": {
      "text/plain": "                                时间戳          记录网关             标识符        日志批次  \\\n0  2023-11-05T13:21:01.837882-05:00  192.168.35.2  <PNB4001>HTTP4  1699208457   \n1  2023-11-05T13:21:42.049348-05:00  192.168.35.2  <PNB4001>HTTP4  1699208497   \n2  2023-11-05T13:21:42.320603-05:00  192.168.35.2  <PNB4001>HTTP4  1699208498   \n3  2023-11-05T13:21:42.320603-05:00  192.168.35.2  <PNB4001>HTTP4  1699208498   \n4  2023-11-05T13:21:42.954237-05:00  192.168.35.2  <PNB4001>HTTP4  1699208498   \n\n           上网设备MAC地址       上网设备IP地址    源端口             目的地址 目的端口 未知符号    方式  \\\n0  00-0c-29-f5-5f-80  192.168.55.10  49671  111.206.170.195   80    1   GET   \n1  00-0c-29-f5-5f-80  192.168.55.10  49693      123.6.47.55   80    1   GET   \n2  00-0c-29-f5-5f-80  192.168.55.10  49694   112.64.200.233   80  384  POST   \n3  00-0c-29-f5-5f-80  192.168.55.10  49695   112.64.200.233   80  384  POST   \n4  00-0c-29-f5-5f-80  192.168.55.10  49697   112.64.200.233   80  384  POST   \n\n              目的域名                                              url详情  \n0         s.360.cn  /safe/instcomp.htm?soft=2023082219&status=1&mi...  \n1   wp.safe.360.cn  /xtrk/acntr.gif?prod=frontskin&act=stat&mid=18...  \n2  conf.wsm.360.cn  /client/query2?&m=186c9a7e7fcb8161dce51b3fbd23...  \n3  conf.wsm.360.cn  /client/query2?&m=186c9a7e7fcb8161dce51b3fbd23...  \n4  conf.wsm.360.cn  /client/query2?&m=186c9a7e7fcb8161dce51b3fbd23...  ",
      "text/html": "<div>\n<style scoped>\n    .dataframe tbody tr th:only-of-type {\n        vertical-align: middle;\n    }\n\n    .dataframe tbody tr th {\n        vertical-align: top;\n    }\n\n    .dataframe thead th {\n        text-align: right;\n    }\n</style>\n<table border=\"1\" class=\"dataframe\">\n  <thead>\n    <tr style=\"text-align: right;\">\n      <th></th>\n      <th>时间戳</th>\n      <th>记录网关</th>\n      <th>标识符</th>\n      <th>日志批次</th>\n      <th>上网设备MAC地址</th>\n      <th>上网设备IP地址</th>\n      <th>源端口</th>\n      <th>目的地址</th>\n      <th>目的端口</th>\n      <th>未知符号</th>\n      <th>方式</th>\n      <th>目的域名</th>\n      <th>url详情</th>\n    </tr>\n  </thead>\n  <tbody>\n    <tr>\n      <th>0</th>\n      <td>2023-11-05T13:21:01.837882-05:00</td>\n      <td>192.168.35.2</td>\n      <td>&lt;PNB4001&gt;HTTP4</td>\n      <td>1699208457</td>\n      <td>00-0c-29-f5-5f-80</td>\n      <td>192.168.55.10</td>\n      <td>49671</td>\n      <td>111.206.170.195</td>\n      <td>80</td>\n      <td>1</td>\n      <td>GET</td>\n      <td>s.360.cn</td>\n      <td>/safe/instcomp.htm?soft=2023082219&amp;status=1&amp;mi...</td>\n    </tr>\n    <tr>\n      <th>1</th>\n      <td>2023-11-05T13:21:42.049348-05:00</td>\n      <td>192.168.35.2</td>\n      <td>&lt;PNB4001&gt;HTTP4</td>\n      <td>1699208497</td>\n      <td>00-0c-29-f5-5f-80</td>\n      <td>192.168.55.10</td>\n      <td>49693</td>\n      <td>123.6.47.55</td>\n      <td>80</td>\n      <td>1</td>\n      <td>GET</td>\n      <td>wp.safe.360.cn</td>\n      <td>/xtrk/acntr.gif?prod=frontskin&amp;act=stat&amp;mid=18...</td>\n    </tr>\n    <tr>\n      <th>2</th>\n      <td>2023-11-05T13:21:42.320603-05:00</td>\n      <td>192.168.35.2</td>\n      <td>&lt;PNB4001&gt;HTTP4</td>\n      <td>1699208498</td>\n      <td>00-0c-29-f5-5f-80</td>\n      <td>192.168.55.10</td>\n      <td>49694</td>\n      <td>112.64.200.233</td>\n      <td>80</td>\n      <td>384</td>\n      <td>POST</td>\n      <td>conf.wsm.360.cn</td>\n      <td>/client/query2?&amp;m=186c9a7e7fcb8161dce51b3fbd23...</td>\n    </tr>\n    <tr>\n      <th>3</th>\n      <td>2023-11-05T13:21:42.320603-05:00</td>\n      <td>192.168.35.2</td>\n      <td>&lt;PNB4001&gt;HTTP4</td>\n      <td>1699208498</td>\n      <td>00-0c-29-f5-5f-80</td>\n      <td>192.168.55.10</td>\n      <td>49695</td>\n      <td>112.64.200.233</td>\n      <td>80</td>\n      <td>384</td>\n      <td>POST</td>\n      <td>conf.wsm.360.cn</td>\n      <td>/client/query2?&amp;m=186c9a7e7fcb8161dce51b3fbd23...</td>\n    </tr>\n    <tr>\n      <th>4</th>\n      <td>2023-11-05T13:21:42.954237-05:00</td>\n      <td>192.168.35.2</td>\n      <td>&lt;PNB4001&gt;HTTP4</td>\n      <td>1699208498</td>\n      <td>00-0c-29-f5-5f-80</td>\n      <td>192.168.55.10</td>\n      <td>49697</td>\n      <td>112.64.200.233</td>\n      <td>80</td>\n      <td>384</td>\n      <td>POST</td>\n      <td>conf.wsm.360.cn</td>\n      <td>/client/query2?&amp;m=186c9a7e7fcb8161dce51b3fbd23...</td>\n    </tr>\n  </tbody>\n</table>\n</div>"
     },
     "execution_count": 6,
     "metadata": {},
     "output_type": "execute_result"
    }
   ],
   "source": [
    "http_df.head()"
   ],
   "metadata": {
    "collapsed": false,
    "ExecuteTime": {
     "end_time": "2023-11-15T01:10:01.474117Z",
     "start_time": "2023-11-15T01:10:01.445639Z"
    }
   }
  },
  {
   "cell_type": "code",
   "execution_count": null,
   "outputs": [],
   "source": [],
   "metadata": {
    "collapsed": false
   }
  }
 ],
 "metadata": {
  "kernelspec": {
   "display_name": "Python 3",
   "language": "python",
   "name": "python3"
  },
  "language_info": {
   "codemirror_mode": {
    "name": "ipython",
    "version": 2
   },
   "file_extension": ".py",
   "mimetype": "text/x-python",
   "name": "python",
   "nbconvert_exporter": "python",
   "pygments_lexer": "ipython2",
   "version": "2.7.6"
  }
 },
 "nbformat": 4,
 "nbformat_minor": 0
}
